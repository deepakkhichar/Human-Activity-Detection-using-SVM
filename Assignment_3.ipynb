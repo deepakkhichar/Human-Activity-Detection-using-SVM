{
 "cells": [
  {
   "cell_type": "code",
   "execution_count": 1,
   "id": "93b4090e",
   "metadata": {
    "id": "93b4090e"
   },
   "outputs": [],
   "source": [
    "import pandas as pd\n",
    "import numpy as np\n",
    "import matplotlib.pyplot as plt\n",
    "from sklearn.model_selection import train_test_split\n",
    "from sklearn.svm import SVC\n",
    "from sklearn import preprocessing\n",
    "from sklearn.metrics import accuracy_score, confusion_matrix,classification_report,plot_confusion_matrix"
   ]
  },
  {
   "cell_type": "markdown",
   "id": "18bfa901",
   "metadata": {
    "id": "18bfa901"
   },
   "source": [
    "# Loading Dataset (Train and Test Data)"
   ]
  },
  {
   "cell_type": "code",
   "execution_count": 2,
   "id": "ff54ac01",
   "metadata": {
    "colab": {
     "base_uri": "https://localhost:8080/"
    },
    "id": "ff54ac01",
    "outputId": "6d541089-93c2-457e-a700-1f669d5b430c"
   },
   "outputs": [
    {
     "name": "stdout",
     "output_type": "stream",
     "text": [
      "(7352, 563)\n",
      "(2947, 563)\n"
     ]
    }
   ],
   "source": [
    "filename = 'train.csv'\n",
    "trainData = pd.read_csv(filename)\n",
    "print(trainData.shape)\n",
    "testData = pd.read_csv('test.csv')\n",
    "print(testData.shape)"
   ]
  },
  {
   "cell_type": "code",
   "execution_count": 3,
   "id": "9efdc17c",
   "metadata": {
    "colab": {
     "base_uri": "https://localhost:8080/",
     "height": 287
    },
    "id": "9efdc17c",
    "outputId": "66bb4219-a52b-4170-9e71-1c6509fe16c0"
   },
   "outputs": [
    {
     "data": {
      "text/html": [
       "<div>\n",
       "<style scoped>\n",
       "    .dataframe tbody tr th:only-of-type {\n",
       "        vertical-align: middle;\n",
       "    }\n",
       "\n",
       "    .dataframe tbody tr th {\n",
       "        vertical-align: top;\n",
       "    }\n",
       "\n",
       "    .dataframe thead th {\n",
       "        text-align: right;\n",
       "    }\n",
       "</style>\n",
       "<table border=\"1\" class=\"dataframe\">\n",
       "  <thead>\n",
       "    <tr style=\"text-align: right;\">\n",
       "      <th></th>\n",
       "      <th>tBodyAcc-mean()-X</th>\n",
       "      <th>tBodyAcc-mean()-Y</th>\n",
       "      <th>tBodyAcc-mean()-Z</th>\n",
       "      <th>tBodyAcc-std()-X</th>\n",
       "      <th>tBodyAcc-std()-Y</th>\n",
       "      <th>tBodyAcc-std()-Z</th>\n",
       "      <th>tBodyAcc-mad()-X</th>\n",
       "      <th>tBodyAcc-mad()-Y</th>\n",
       "      <th>tBodyAcc-mad()-Z</th>\n",
       "      <th>tBodyAcc-max()-X</th>\n",
       "      <th>...</th>\n",
       "      <th>fBodyBodyGyroJerkMag-kurtosis()</th>\n",
       "      <th>angle(tBodyAccMean,gravity)</th>\n",
       "      <th>angle(tBodyAccJerkMean),gravityMean)</th>\n",
       "      <th>angle(tBodyGyroMean,gravityMean)</th>\n",
       "      <th>angle(tBodyGyroJerkMean,gravityMean)</th>\n",
       "      <th>angle(X,gravityMean)</th>\n",
       "      <th>angle(Y,gravityMean)</th>\n",
       "      <th>angle(Z,gravityMean)</th>\n",
       "      <th>subject</th>\n",
       "      <th>Activity</th>\n",
       "    </tr>\n",
       "  </thead>\n",
       "  <tbody>\n",
       "    <tr>\n",
       "      <th>0</th>\n",
       "      <td>0.288585</td>\n",
       "      <td>-0.020294</td>\n",
       "      <td>-0.132905</td>\n",
       "      <td>-0.995279</td>\n",
       "      <td>-0.983111</td>\n",
       "      <td>-0.913526</td>\n",
       "      <td>-0.995112</td>\n",
       "      <td>-0.983185</td>\n",
       "      <td>-0.923527</td>\n",
       "      <td>-0.934724</td>\n",
       "      <td>...</td>\n",
       "      <td>-0.710304</td>\n",
       "      <td>-0.112754</td>\n",
       "      <td>0.030400</td>\n",
       "      <td>-0.464761</td>\n",
       "      <td>-0.018446</td>\n",
       "      <td>-0.841247</td>\n",
       "      <td>0.179941</td>\n",
       "      <td>-0.058627</td>\n",
       "      <td>1</td>\n",
       "      <td>STANDING</td>\n",
       "    </tr>\n",
       "    <tr>\n",
       "      <th>1</th>\n",
       "      <td>0.278419</td>\n",
       "      <td>-0.016411</td>\n",
       "      <td>-0.123520</td>\n",
       "      <td>-0.998245</td>\n",
       "      <td>-0.975300</td>\n",
       "      <td>-0.960322</td>\n",
       "      <td>-0.998807</td>\n",
       "      <td>-0.974914</td>\n",
       "      <td>-0.957686</td>\n",
       "      <td>-0.943068</td>\n",
       "      <td>...</td>\n",
       "      <td>-0.861499</td>\n",
       "      <td>0.053477</td>\n",
       "      <td>-0.007435</td>\n",
       "      <td>-0.732626</td>\n",
       "      <td>0.703511</td>\n",
       "      <td>-0.844788</td>\n",
       "      <td>0.180289</td>\n",
       "      <td>-0.054317</td>\n",
       "      <td>1</td>\n",
       "      <td>STANDING</td>\n",
       "    </tr>\n",
       "    <tr>\n",
       "      <th>2</th>\n",
       "      <td>0.279653</td>\n",
       "      <td>-0.019467</td>\n",
       "      <td>-0.113462</td>\n",
       "      <td>-0.995380</td>\n",
       "      <td>-0.967187</td>\n",
       "      <td>-0.978944</td>\n",
       "      <td>-0.996520</td>\n",
       "      <td>-0.963668</td>\n",
       "      <td>-0.977469</td>\n",
       "      <td>-0.938692</td>\n",
       "      <td>...</td>\n",
       "      <td>-0.760104</td>\n",
       "      <td>-0.118559</td>\n",
       "      <td>0.177899</td>\n",
       "      <td>0.100699</td>\n",
       "      <td>0.808529</td>\n",
       "      <td>-0.848933</td>\n",
       "      <td>0.180637</td>\n",
       "      <td>-0.049118</td>\n",
       "      <td>1</td>\n",
       "      <td>STANDING</td>\n",
       "    </tr>\n",
       "    <tr>\n",
       "      <th>3</th>\n",
       "      <td>0.279174</td>\n",
       "      <td>-0.026201</td>\n",
       "      <td>-0.123283</td>\n",
       "      <td>-0.996091</td>\n",
       "      <td>-0.983403</td>\n",
       "      <td>-0.990675</td>\n",
       "      <td>-0.997099</td>\n",
       "      <td>-0.982750</td>\n",
       "      <td>-0.989302</td>\n",
       "      <td>-0.938692</td>\n",
       "      <td>...</td>\n",
       "      <td>-0.482845</td>\n",
       "      <td>-0.036788</td>\n",
       "      <td>-0.012892</td>\n",
       "      <td>0.640011</td>\n",
       "      <td>-0.485366</td>\n",
       "      <td>-0.848649</td>\n",
       "      <td>0.181935</td>\n",
       "      <td>-0.047663</td>\n",
       "      <td>1</td>\n",
       "      <td>STANDING</td>\n",
       "    </tr>\n",
       "    <tr>\n",
       "      <th>4</th>\n",
       "      <td>0.276629</td>\n",
       "      <td>-0.016570</td>\n",
       "      <td>-0.115362</td>\n",
       "      <td>-0.998139</td>\n",
       "      <td>-0.980817</td>\n",
       "      <td>-0.990482</td>\n",
       "      <td>-0.998321</td>\n",
       "      <td>-0.979672</td>\n",
       "      <td>-0.990441</td>\n",
       "      <td>-0.942469</td>\n",
       "      <td>...</td>\n",
       "      <td>-0.699205</td>\n",
       "      <td>0.123320</td>\n",
       "      <td>0.122542</td>\n",
       "      <td>0.693578</td>\n",
       "      <td>-0.615971</td>\n",
       "      <td>-0.847865</td>\n",
       "      <td>0.185151</td>\n",
       "      <td>-0.043892</td>\n",
       "      <td>1</td>\n",
       "      <td>STANDING</td>\n",
       "    </tr>\n",
       "  </tbody>\n",
       "</table>\n",
       "<p>5 rows × 563 columns</p>\n",
       "</div>"
      ],
      "text/plain": [
       "   tBodyAcc-mean()-X  tBodyAcc-mean()-Y  tBodyAcc-mean()-Z  tBodyAcc-std()-X  \\\n",
       "0           0.288585          -0.020294          -0.132905         -0.995279   \n",
       "1           0.278419          -0.016411          -0.123520         -0.998245   \n",
       "2           0.279653          -0.019467          -0.113462         -0.995380   \n",
       "3           0.279174          -0.026201          -0.123283         -0.996091   \n",
       "4           0.276629          -0.016570          -0.115362         -0.998139   \n",
       "\n",
       "   tBodyAcc-std()-Y  tBodyAcc-std()-Z  tBodyAcc-mad()-X  tBodyAcc-mad()-Y  \\\n",
       "0         -0.983111         -0.913526         -0.995112         -0.983185   \n",
       "1         -0.975300         -0.960322         -0.998807         -0.974914   \n",
       "2         -0.967187         -0.978944         -0.996520         -0.963668   \n",
       "3         -0.983403         -0.990675         -0.997099         -0.982750   \n",
       "4         -0.980817         -0.990482         -0.998321         -0.979672   \n",
       "\n",
       "   tBodyAcc-mad()-Z  tBodyAcc-max()-X  ...  fBodyBodyGyroJerkMag-kurtosis()  \\\n",
       "0         -0.923527         -0.934724  ...                        -0.710304   \n",
       "1         -0.957686         -0.943068  ...                        -0.861499   \n",
       "2         -0.977469         -0.938692  ...                        -0.760104   \n",
       "3         -0.989302         -0.938692  ...                        -0.482845   \n",
       "4         -0.990441         -0.942469  ...                        -0.699205   \n",
       "\n",
       "   angle(tBodyAccMean,gravity)  angle(tBodyAccJerkMean),gravityMean)  \\\n",
       "0                    -0.112754                              0.030400   \n",
       "1                     0.053477                             -0.007435   \n",
       "2                    -0.118559                              0.177899   \n",
       "3                    -0.036788                             -0.012892   \n",
       "4                     0.123320                              0.122542   \n",
       "\n",
       "   angle(tBodyGyroMean,gravityMean)  angle(tBodyGyroJerkMean,gravityMean)  \\\n",
       "0                         -0.464761                             -0.018446   \n",
       "1                         -0.732626                              0.703511   \n",
       "2                          0.100699                              0.808529   \n",
       "3                          0.640011                             -0.485366   \n",
       "4                          0.693578                             -0.615971   \n",
       "\n",
       "   angle(X,gravityMean)  angle(Y,gravityMean)  angle(Z,gravityMean)  subject  \\\n",
       "0             -0.841247              0.179941             -0.058627        1   \n",
       "1             -0.844788              0.180289             -0.054317        1   \n",
       "2             -0.848933              0.180637             -0.049118        1   \n",
       "3             -0.848649              0.181935             -0.047663        1   \n",
       "4             -0.847865              0.185151             -0.043892        1   \n",
       "\n",
       "   Activity  \n",
       "0  STANDING  \n",
       "1  STANDING  \n",
       "2  STANDING  \n",
       "3  STANDING  \n",
       "4  STANDING  \n",
       "\n",
       "[5 rows x 563 columns]"
      ]
     },
     "execution_count": 3,
     "metadata": {},
     "output_type": "execute_result"
    }
   ],
   "source": [
    "trainData.head()"
   ]
  },
  {
   "cell_type": "markdown",
   "id": "3e763495",
   "metadata": {
    "id": "3e763495"
   },
   "source": [
    "# Preprocessing"
   ]
  },
  {
   "cell_type": "markdown",
   "id": "58378509",
   "metadata": {
    "id": "58378509"
   },
   "source": [
    "#### Checking for Duplicates"
   ]
  },
  {
   "cell_type": "code",
   "execution_count": 4,
   "id": "d8733299",
   "metadata": {
    "colab": {
     "base_uri": "https://localhost:8080/"
    },
    "id": "d8733299",
    "outputId": "75a95969-fc1b-4bab-f7e7-894fec62acba"
   },
   "outputs": [
    {
     "name": "stdout",
     "output_type": "stream",
     "text": [
      "No of duplicates in Train Data: 0\n",
      "No of duplicates in Test Data : 0\n"
     ]
    }
   ],
   "source": [
    "print('No of duplicates in Train Data:',sum(trainData.duplicated()))\n",
    "print('No of duplicates in Test Data :',sum(testData.duplicated()))"
   ]
  },
  {
   "cell_type": "markdown",
   "id": "d873fe28",
   "metadata": {
    "id": "d873fe28"
   },
   "source": [
    "#### Checking for NaN/null values"
   ]
  },
  {
   "cell_type": "code",
   "execution_count": 5,
   "id": "adbfd753",
   "metadata": {
    "colab": {
     "base_uri": "https://localhost:8080/"
    },
    "id": "adbfd753",
    "outputId": "0e1836b9-bd80-4f79-a5fd-bfadc42b77b4"
   },
   "outputs": [
    {
     "name": "stdout",
     "output_type": "stream",
     "text": [
      "No of NaN/Null values in Train Data: 0\n",
      "No of NaN/Null values in Test Data: 0\n"
     ]
    }
   ],
   "source": [
    "\n",
    "print('No of NaN/Null values in Train Data:',trainData.isnull().values.sum())\n",
    "print('No of NaN/Null values in Test Data:',testData.isnull().values.sum())"
   ]
  },
  {
   "cell_type": "markdown",
   "id": "0f501a14",
   "metadata": {
    "id": "0f501a14"
   },
   "source": [
    "#### Data prepration\n"
   ]
  },
  {
   "cell_type": "code",
   "execution_count": 6,
   "id": "31563510",
   "metadata": {
    "colab": {
     "base_uri": "https://localhost:8080/"
    },
    "id": "31563510",
    "outputId": "d561be8f-0301-4b47-9e6c-99f6ef633d3a"
   },
   "outputs": [
    {
     "name": "stdout",
     "output_type": "stream",
     "text": [
      "['LAYING' 'SITTING' 'STANDING' 'WALKING' 'WALKING_DOWNSTAIRS'\n",
      " 'WALKING_UPSTAIRS']\n"
     ]
    }
   ],
   "source": [
    "X_train = trainData.drop(['Activity'], axis = 1)\n",
    "Y_train = trainData['Activity']\n",
    "X_test = testData.drop(['Activity'], axis = 1)\n",
    "Y_test = testData['Activity']\n",
    "\n",
    "# Transforming non-numerical value in Y to numerical value using label Encoder\n",
    "le = preprocessing.LabelEncoder()\n",
    "le.fit(Y_train)\n",
    "Y_train = le.transform(Y_train)\n",
    "Y_test = le.transform(Y_test)\n",
    "print(le.classes_)"
   ]
  },
  {
   "cell_type": "markdown",
   "id": "d1248921",
   "metadata": {
    "id": "d1248921"
   },
   "source": [
    "#### Normalising the data"
   ]
  },
  {
   "cell_type": "code",
   "execution_count": 7,
   "id": "6a7fe176",
   "metadata": {
    "id": "6a7fe176"
   },
   "outputs": [],
   "source": [
    "from sklearn import preprocessing\n",
    "X_train_n = preprocessing.normalize(X_train)\n",
    "X_test_n =  preprocessing.normalize(X_test)"
   ]
  },
  {
   "cell_type": "markdown",
   "id": "5b2c2990",
   "metadata": {
    "id": "5b2c2990"
   },
   "source": [
    "#### Feature Scaling "
   ]
  },
  {
   "cell_type": "code",
   "execution_count": 8,
   "id": "89d0d359",
   "metadata": {
    "id": "89d0d359"
   },
   "outputs": [],
   "source": [
    "# MinMaxScalar\n",
    "from sklearn.preprocessing import MinMaxScaler\n",
    "scaler1 = MinMaxScaler().fit(X_train_n)\n",
    "X_train_mm = scaler1.transform(X_train_n)\n",
    "X_test_mm = scaler1.transform(X_test_n)\n",
    "\n",
    "# Standard Scaler\n",
    "# from sklearn.preprocessing import StandardScaler\n",
    "# scaler2 = StandardScaler().fit(X_train_n)\n",
    "# X_train_st = scaler2.transform(X_train_n)\n",
    "# X_test_st = scaler2.transform(X_test_n)"
   ]
  },
  {
   "cell_type": "markdown",
   "id": "6cc45cea",
   "metadata": {
    "id": "6cc45cea"
   },
   "source": [
    "#### Preparing training and validation sets"
   ]
  },
  {
   "cell_type": "code",
   "execution_count": 9,
   "id": "25e809e3",
   "metadata": {
    "id": "25e809e3"
   },
   "outputs": [],
   "source": [
    "from sklearn.model_selection import train_test_split\n",
    "X_training, X_validation, Y_training, Y_validation = train_test_split(X_train_mm, Y_train, test_size=0.2, random_state=42)\n",
    "X_testing=X_test_mm\n",
    "Y_testing=Y_test"
   ]
  },
  {
   "cell_type": "markdown",
   "id": "c4f998a5",
   "metadata": {
    "id": "c4f998a5"
   },
   "source": [
    "# Training the model"
   ]
  },
  {
   "cell_type": "markdown",
   "id": "17d8c826",
   "metadata": {
    "id": "17d8c826"
   },
   "source": [
    "## SVM with Linear kernel"
   ]
  },
  {
   "cell_type": "code",
   "execution_count": 10,
   "id": "93cd09ba",
   "metadata": {
    "colab": {
     "base_uri": "https://localhost:8080/",
     "height": 1000
    },
    "id": "93cd09ba",
    "outputId": "aeeca5b3-2d11-45ec-ae0e-d24110d748de"
   },
   "outputs": [
    {
     "name": "stdout",
     "output_type": "stream",
     "text": [
      "SVM with Linear Kernel\n",
      "----------------------------------------------------------------------------------------------------\n",
      "\n",
      "Tuned parameter Values, C : 100\n",
      "\n",
      "\n",
      "Accuracy Score on Training Data: 0.9977894915830641\n",
      "\n",
      "----------------------------------------------------------------------------------------------------\n",
      "--------------------------------------For Validation Set--------------------------------------------\n",
      "\n",
      "Accuracy Score on Validation Data: 0.9775662814411965\n",
      "\n",
      "Confusion Matrix on Validation Data:\n"
     ]
    },
    {
     "data": {
      "image/png": "[encoded data removed]",
      "text/plain": [
       "<Figure size 432x288 with 2 Axes>"
      ]
     },
     "metadata": {
      "needs_background": "light"
     },
     "output_type": "display_data"
    },
    {
     "name": "stdout",
     "output_type": "stream",
     "text": [
      "Normalised Confusion Matrix on Validation Data:\n"
     ]
    },
    {
     "data": {
      "image/png": "[encoded data removed]",
      "text/plain": [
       "<Figure size 432x288 with 2 Axes>"
      ]
     },
     "metadata": {
      "needs_background": "light"
     },
     "output_type": "display_data"
    },
    {
     "name": "stdout",
     "output_type": "stream",
     "text": [
      "Classification Report on Validation Data:\n",
      "              precision    recall  f1-score   support\n",
      "\n",
      "           0       1.00      1.00      1.00       280\n",
      "           1       0.95      0.95      0.95       262\n",
      "           2       0.95      0.95      0.95       276\n",
      "           3       1.00      1.00      1.00       247\n",
      "           4       0.99      1.00      0.99       206\n",
      "           5       0.99      0.98      0.99       200\n",
      "\n",
      "    accuracy                           0.98      1471\n",
      "   macro avg       0.98      0.98      0.98      1471\n",
      "weighted avg       0.98      0.98      0.98      1471\n",
      "\n",
      "\n",
      "----------------------------------------------------------------------------------------------------\n",
      "--------------------------------------For Testing Set-----------------------------------------------\n",
      "\n",
      "Accuracy Score on Testing Data: 0.9565659993213438\n",
      "\n",
      "Confusion Matrix on Test Data:\n"
     ]
    },
    {
     "data": {
      "image/png": "[encoded data removed]",
      "text/plain": [
       "<Figure size 432x288 with 2 Axes>"
      ]
     },
     "metadata": {
      "needs_background": "light"
     },
     "output_type": "display_data"
    },
    {
     "name": "stdout",
     "output_type": "stream",
     "text": [
      "Normalised Confusion Matrix on Test Data:\n"
     ]
    },
    {
     "data": {
      "image/png": "[encoded data removed]",
      "text/plain": [
       "<Figure size 432x288 with 2 Axes>"
      ]
     },
     "metadata": {
      "needs_background": "light"
     },
     "output_type": "display_data"
    },
    {
     "name": "stdout",
     "output_type": "stream",
     "text": [
      "Classification Report on Test Data:\n",
      "              precision    recall  f1-score   support\n",
      "\n",
      "           0       1.00      1.00      1.00       537\n",
      "           1       0.97      0.89      0.93       491\n",
      "           2       0.91      0.98      0.94       532\n",
      "           3       0.92      0.99      0.96       496\n",
      "           4       1.00      0.94      0.97       420\n",
      "           5       0.96      0.93      0.94       471\n",
      "\n",
      "    accuracy                           0.96      2947\n",
      "   macro avg       0.96      0.96      0.96      2947\n",
      "weighted avg       0.96      0.96      0.96      2947\n",
      "\n"
     ]
    }
   ],
   "source": [
    "svc_linear = SVC(kernel='linear',C=100) \n",
    "svc_linear.fit(X_training,Y_training)\n",
    "\n",
    "\n",
    "Y_training_pred = svc_linear.predict(X_training)\n",
    "Y_validation_pred = svc_linear.predict(X_validation)\n",
    "Y_testing_pred = svc_linear.predict(X_testing)\n",
    "\n",
    "print(\"SVM with Linear Kernel\")\n",
    "print('----------------------------------------------------------------------------------------------------')\n",
    "print()\n",
    "print('Tuned parameter Values, C :',svc_linear.C)\n",
    "print()\n",
    "print()\n",
    "print('Accuracy Score on Training Data:',accuracy_score(Y_training, Y_training_pred))\n",
    "print()\n",
    "print('----------------------------------------------------------------------------------------------------')\n",
    "print('--------------------------------------For Validation Set--------------------------------------------')\n",
    "print()\n",
    "print('Accuracy Score on Validation Data:',accuracy_score(Y_validation, Y_validation_pred))\n",
    "print()\n",
    "#CM=confusion_matrix(Y_validation, Y_validation_pred)\n",
    "print(\"Confusion Matrix on Validation Data:\")\n",
    "#print(CM)\n",
    "plot_confusion_matrix(svc_linear, X_validation, Y_validation)  \n",
    "plt.show()\n",
    "#CM_normalised = CM.astype('float')/CM.sum(axis=1)[:, np.newaxis]\n",
    "print(\"Normalised Confusion Matrix on Validation Data:\")\n",
    "#print(CM_normalised)\n",
    "plot_confusion_matrix(svc_linear, X_validation, Y_validation,normalize='true')  \n",
    "plt.show()\n",
    "print(\"Classification Report on Validation Data:\")\n",
    "print(classification_report(Y_validation,Y_validation_pred))\n",
    "print()\n",
    "\n",
    "\n",
    "print('----------------------------------------------------------------------------------------------------')\n",
    "print('--------------------------------------For Testing Set-----------------------------------------------')\n",
    "print()\n",
    "print('Accuracy Score on Testing Data:',accuracy_score(Y_testing, Y_testing_pred))\n",
    "print()\n",
    "print(\"Confusion Matrix on Test Data:\")\n",
    "#CM=confusion_matrix(Y_test, Y_test_pred)\n",
    "#print(CM)\n",
    "plot_confusion_matrix(svc_linear, X_test_mm, Y_test)  \n",
    "plt.show()\n",
    "print(\"Normalised Confusion Matrix on Test Data:\")\n",
    "#CM_normalised = CM.astype('float')/CM.sum(axis=1)[:, np.newaxis]\n",
    "#print(CM_normalised)\n",
    "plot_confusion_matrix(svc_linear, X_test_mm, Y_test,normalize='true')  \n",
    "plt.show()\n",
    "print(\"Classification Report on Test Data:\")\n",
    "print(classification_report(Y_testing, Y_testing_pred))"
   ]
  },
  {
   "cell_type": "code",
   "execution_count": 11,
   "id": "1f660226",
   "metadata": {
    "id": "1f660226",
    "outputId": "b1ed0e29-067e-451d-ca61-0677e839aebc"
   },
   "outputs": [
    {
     "name": "stdout",
     "output_type": "stream",
     "text": [
      "Accuracy Score on Testing Data with C as 0.001  : 0.7248048863250763\n",
      "Accuracy Score on Testing Data with C as 0.01  : 0.9141499830335935\n",
      "Accuracy Score on Testing Data with C as 0.1  : 0.9497794367153037\n",
      "Accuracy Score on Testing Data with C as 1  : 0.9545300305395318\n",
      "Accuracy Score on Testing Data with C as 10  : 0.9541907024092298\n",
      "Accuracy Score on Testing Data with C as 100  : 0.9565659993213438\n",
      "Accuracy Score on Testing Data with C as 1000  : 0.9565659993213438\n"
     ]
    }
   ],
   "source": [
    "C_trials = [0.001, 0.01, 0.1, 1, 10, 100,1000]\n",
    "\n",
    "for i in range(len(C_trials)):\n",
    "    svc_linear = SVC(kernel='linear',C=C_trials[i]) \n",
    "    svc_linear.fit(X_training,Y_training)\n",
    "\n",
    "\n",
    "    Y_training_pred = svc_linear.predict(X_training)\n",
    "    Y_validation_pred = svc_linear.predict(X_validation)\n",
    "    Y_testing_pred = svc_linear.predict(X_testing)\n",
    "\n",
    "\n",
    "\n",
    "    print('Accuracy Score on Testing Data with C as', str(C_trials[i]),' :',accuracy_score(Y_testing, Y_testing_pred))\n"
   ]
  },
  {
   "cell_type": "markdown",
   "id": "ce58414f",
   "metadata": {
    "id": "ce58414f"
   },
   "source": [
    "## SVM with RBF kernel "
   ]
  },
  {
   "cell_type": "code",
   "execution_count": 12,
   "id": "c0fd8674",
   "metadata": {
    "id": "c0fd8674",
    "outputId": "ab7300c9-32f9-432b-c7c1-9b4d56441fdf"
   },
   "outputs": [
    {
     "name": "stdout",
     "output_type": "stream",
     "text": [
      "SVM with RBF Kernel\n",
      "----------------------------------------------------------------------------------------------------\n",
      "\n",
      "Tuned parameter Values, C : 100 , gamma : 0.02\n",
      "\n",
      "\n",
      "Accuracy Score on Training Data: 0.9972793742560789\n",
      "\n",
      "----------------------------------------------------------------------------------------------------\n",
      "--------------------------------------For Validation Set--------------------------------------------\n",
      "\n",
      "Accuracy Score on Validation Data: 0.9891230455472467\n",
      "\n",
      "Confusion Matrix on Validation Data:\n"
     ]
    },
    {
     "data": {
      "image/png": "[encoded data removed]",
      "text/plain": [
       "<Figure size 432x288 with 2 Axes>"
      ]
     },
     "metadata": {
      "needs_background": "light"
     },
     "output_type": "display_data"
    },
    {
     "name": "stdout",
     "output_type": "stream",
     "text": [
      "Normalised Confusion Matrix on Validation Data:\n"
     ]
    },
    {
     "data": {
      "image/png": "[encoded data removed]",
      "text/plain": [
       "<Figure size 432x288 with 2 Axes>"
      ]
     },
     "metadata": {
      "needs_background": "light"
     },
     "output_type": "display_data"
    },
    {
     "name": "stdout",
     "output_type": "stream",
     "text": [
      "Classification Report on Validation Data:\n",
      "              precision    recall  f1-score   support\n",
      "\n",
      "           0       1.00      1.00      1.00       280\n",
      "           1       0.96      0.99      0.97       262\n",
      "           2       0.99      0.96      0.97       276\n",
      "           3       1.00      1.00      1.00       247\n",
      "           4       0.99      1.00      1.00       206\n",
      "           5       1.00      0.99      0.99       200\n",
      "\n",
      "    accuracy                           0.99      1471\n",
      "   macro avg       0.99      0.99      0.99      1471\n",
      "weighted avg       0.99      0.99      0.99      1471\n",
      "\n",
      "\n",
      "----------------------------------------------------------------------------------------------------\n",
      "--------------------------------------For Testing Set-----------------------------------------------\n",
      "\n",
      "Accuracy Score on Testing Data: 0.9552086868001357\n",
      "\n",
      "Confusion Matrix on Test Data:\n"
     ]
    },
    {
     "data": {
      "image/png": "[encoded data removed]",
      "text/plain": [
       "<Figure size 432x288 with 2 Axes>"
      ]
     },
     "metadata": {
      "needs_background": "light"
     },
     "output_type": "display_data"
    },
    {
     "name": "stdout",
     "output_type": "stream",
     "text": [
      "Normalised Confusion Matrix on Test Data:\n"
     ]
    },
    {
     "data": {
      "image/png": "[encoded data removed]",
      "text/plain": [
       "<Figure size 432x288 with 2 Axes>"
      ]
     },
     "metadata": {
      "needs_background": "light"
     },
     "output_type": "display_data"
    },
    {
     "name": "stdout",
     "output_type": "stream",
     "text": [
      "Classification Report on Test Data:\n",
      "              precision    recall  f1-score   support\n",
      "\n",
      "           0       1.00      1.00      1.00       537\n",
      "           1       0.98      0.88      0.92       491\n",
      "           2       0.90      0.98      0.94       532\n",
      "           3       0.91      1.00      0.95       496\n",
      "           4       1.00      0.94      0.97       420\n",
      "           5       0.96      0.93      0.95       471\n",
      "\n",
      "    accuracy                           0.96      2947\n",
      "   macro avg       0.96      0.95      0.95      2947\n",
      "weighted avg       0.96      0.96      0.96      2947\n",
      "\n"
     ]
    }
   ],
   "source": [
    "\n",
    "svc_rbf = SVC(kernel='rbf',gamma=0.02,C=100)  # gamma='scale'\n",
    "svc_rbf.fit(X_training,Y_training)\n",
    "\n",
    "\n",
    "Y_training_pred = svc_rbf.predict(X_training)\n",
    "Y_validation_pred = svc_rbf.predict(X_validation)\n",
    "Y_testing_pred = svc_rbf.predict(X_testing)\n",
    "\n",
    "print(\"SVM with RBF Kernel\")\n",
    "print('----------------------------------------------------------------------------------------------------')\n",
    "print()\n",
    "print('Tuned parameter Values, C :',svc_rbf.C,', gamma :',svc_rbf._gamma)\n",
    "print()\n",
    "print()\n",
    "print('Accuracy Score on Training Data:',accuracy_score(Y_training, Y_training_pred))\n",
    "print()\n",
    "print('----------------------------------------------------------------------------------------------------')\n",
    "print('--------------------------------------For Validation Set--------------------------------------------')\n",
    "print()\n",
    "print('Accuracy Score on Validation Data:',accuracy_score(Y_validation, Y_validation_pred))\n",
    "print()\n",
    "#CM=confusion_matrix(Y_validation, Y_validation_pred)\n",
    "print(\"Confusion Matrix on Validation Data:\")\n",
    "#print(CM)\n",
    "plot_confusion_matrix(svc_rbf, X_validation, Y_validation)  \n",
    "plt.show()\n",
    "#CM_normalised = CM.astype('float')/CM.sum(axis=1)[:, np.newaxis]\n",
    "print(\"Normalised Confusion Matrix on Validation Data:\")\n",
    "#print(CM_normalised)\n",
    "plot_confusion_matrix(svc_rbf, X_validation, Y_validation,normalize='true')  \n",
    "plt.show()\n",
    "print(\"Classification Report on Validation Data:\")\n",
    "print(classification_report(Y_validation,Y_validation_pred))\n",
    "print()\n",
    "\n",
    "\n",
    "print('----------------------------------------------------------------------------------------------------')\n",
    "print('--------------------------------------For Testing Set-----------------------------------------------')\n",
    "print()\n",
    "print('Accuracy Score on Testing Data:',accuracy_score(Y_testing, Y_testing_pred))\n",
    "print()\n",
    "print(\"Confusion Matrix on Test Data:\")\n",
    "#CM=confusion_matrix(Y_test, Y_test_pred)\n",
    "#print(CM)\n",
    "plot_confusion_matrix(svc_rbf, X_test_mm, Y_test)  \n",
    "plt.show()\n",
    "print(\"Normalised Confusion Matrix on Test Data:\")\n",
    "#CM_normalised = CM.astype('float')/CM.sum(axis=1)[:, np.newaxis]\n",
    "#print(CM_normalised)\n",
    "plot_confusion_matrix(svc_rbf, X_test_mm, Y_test,normalize='true')  \n",
    "plt.show()\n",
    "print(\"Classification Report on Test Data:\")\n",
    "print(classification_report(Y_testing, Y_testing_pred))"
   ]
  },
  {
   "cell_type": "code",
   "execution_count": 13,
   "id": "90409248",
   "metadata": {
    "colab": {
     "base_uri": "https://localhost:8080/"
    },
    "id": "90409248",
    "outputId": "1e6236f5-d29f-44f7-897e-4ddd30b2a14c"
   },
   "outputs": [
    {
     "name": "stdout",
     "output_type": "stream",
     "text": [
      "Accuracy Score on Testing Data with C= 0.001 gamma = 0.001 : 0.18221920597217509\n",
      "Accuracy Score on Testing Data with C= 0.001 gamma = 0.01 : 0.18221920597217509\n",
      "Accuracy Score on Testing Data with C= 0.001 gamma = 0.1 : 0.18221920597217509\n",
      "Accuracy Score on Testing Data with C= 0.001 gamma = 1 : 0.18221920597217509\n",
      "Accuracy Score on Testing Data with C= 0.01 gamma = 0.001 : 0.18221920597217509\n",
      "Accuracy Score on Testing Data with C= 0.01 gamma = 0.01 : 0.35086528673227013\n",
      "Accuracy Score on Testing Data with C= 0.01 gamma = 0.1 : 0.5887343060739735\n",
      "Accuracy Score on Testing Data with C= 0.01 gamma = 1 : 0.22463522225992535\n",
      "Accuracy Score on Testing Data with C= 0.1 gamma = 0.001 : 0.35086528673227013\n",
      "Accuracy Score on Testing Data with C= 0.1 gamma = 0.01 : 0.7801153715643027\n",
      "Accuracy Score on Testing Data with C= 0.1 gamma = 0.1 : 0.9144893111638955\n",
      "Accuracy Score on Testing Data with C= 0.1 gamma = 1 : 0.5042416016287751\n",
      "Accuracy Score on Testing Data with C= 1 gamma = 0.001 : 0.7902952154733628\n",
      "Accuracy Score on Testing Data with C= 1 gamma = 0.01 : 0.9290804207668816\n",
      "Accuracy Score on Testing Data with C= 1 gamma = 0.1 : 0.9463861554122837\n",
      "Accuracy Score on Testing Data with C= 1 gamma = 1 : 0.6728876823888701\n",
      "Accuracy Score on Testing Data with C= 10 gamma = 0.001 : 0.9277231082456736\n",
      "Accuracy Score on Testing Data with C= 10 gamma = 0.01 : 0.9521547336274178\n",
      "Accuracy Score on Testing Data with C= 10 gamma = 0.1 : 0.9494401085850017\n",
      "Accuracy Score on Testing Data with C= 10 gamma = 1 : 0.677638276213098\n",
      "Accuracy Score on Testing Data with C= 100 gamma = 0.001 : 0.9535120461486257\n",
      "Accuracy Score on Testing Data with C= 100 gamma = 0.01 : 0.9545300305395318\n",
      "Accuracy Score on Testing Data with C= 100 gamma = 0.1 : 0.9494401085850017\n",
      "Accuracy Score on Testing Data with C= 100 gamma = 1 : 0.677638276213098\n"
     ]
    }
   ],
   "source": [
    "trials = [0.001, 0.01, 0.1, 1, 10, 100]\n",
    "#Make grid using above list\n",
    "grid = []\n",
    "for i in range(6):\n",
    "    for j in range(4):\n",
    "        grid.append((trials[i],trials[j]))\n",
    "\n",
    "for i in range(len(grid)):\n",
    "    svc_rbf = SVC(kernel='rbf',gamma=grid[i][1],C=grid[i][0])  # gamma='scale'\n",
    "    svc_rbf.fit(X_training,Y_training)\n",
    "\n",
    "\n",
    "    Y_training_pred = svc_rbf.predict(X_training)\n",
    "    Y_validation_pred = svc_rbf.predict(X_validation)\n",
    "    Y_testing_pred = svc_rbf.predict(X_testing)\n",
    "\n",
    "\n",
    "\n",
    "    print('Accuracy Score on Testing Data with C=', str(grid[i][0]), 'gamma =', str(grid[i][1]), ':', accuracy_score(Y_testing, Y_testing_pred))\n"
   ]
  },
  {
   "cell_type": "code",
   "execution_count": 14,
   "id": "CAc5KpSeifSG",
   "metadata": {
    "colab": {
     "base_uri": "https://localhost:8080/"
    },
    "id": "CAc5KpSeifSG",
    "outputId": "a0769469-5ab7-459b-ddee-f4e650d42097"
   },
   "outputs": [
    {
     "name": "stdout",
     "output_type": "stream",
     "text": [
      "Accuracy Score on Testing Data with C= 10 gamma = 0.054715271470340124 : 0.9521547336274178\n",
      "Accuracy Score on Testing Data with C= 100 gamma = 0.054715271470340124 : 0.9491007804546997\n",
      "Accuracy Score on Testing Data with C= 10 gamma = 0.0017793594306049821 : 0.9382422802850356\n",
      "Accuracy Score on Testing Data with C= 100 gamma = 0.0017793594306049821 : 0.9558873430607397\n"
     ]
    }
   ],
   "source": [
    "svc_rbf = SVC(kernel='rbf',gamma = 'scale',C=10)  # gamma='scale'\n",
    "svc_rbf.fit(X_training,Y_training)\n",
    "\n",
    "\n",
    "Y_training_pred = svc_rbf.predict(X_training)\n",
    "Y_validation_pred = svc_rbf.predict(X_validation)\n",
    "Y_testing_pred = svc_rbf.predict(X_testing)\n",
    "print('Accuracy Score on Testing Data with C=', str(svc_rbf.C), 'gamma =', str(svc_rbf._gamma), ':', accuracy_score(Y_testing, Y_testing_pred))\n",
    "\n",
    "svc_rbf = SVC(kernel='rbf',gamma = 'scale',C=100)  # gamma='scale'\n",
    "svc_rbf.fit(X_training,Y_training)\n",
    "\n",
    "\n",
    "Y_training_pred = svc_rbf.predict(X_training)\n",
    "Y_validation_pred = svc_rbf.predict(X_validation)\n",
    "Y_testing_pred = svc_rbf.predict(X_testing)\n",
    "\n",
    "print('Accuracy Score on Testing Data with C=', str(svc_rbf.C), 'gamma =', str(svc_rbf._gamma), ':', accuracy_score(Y_testing, Y_testing_pred))\n",
    "\n",
    "svc_rbf = SVC(kernel='rbf',gamma = 'auto',C=10)  # gamma='scale'\n",
    "svc_rbf.fit(X_training,Y_training)\n",
    "\n",
    "\n",
    "Y_training_pred = svc_rbf.predict(X_training)\n",
    "Y_validation_pred = svc_rbf.predict(X_validation)\n",
    "Y_testing_pred = svc_rbf.predict(X_testing)\n",
    "print('Accuracy Score on Testing Data with C=', str(svc_rbf.C), 'gamma =', str(svc_rbf._gamma), ':', accuracy_score(Y_testing, Y_testing_pred))\n",
    "\n",
    "svc_rbf = SVC(kernel='rbf',gamma = 'auto',C=100)  # gamma='scale'\n",
    "svc_rbf.fit(X_training,Y_training)\n",
    "\n",
    "\n",
    "Y_training_pred = svc_rbf.predict(X_training)\n",
    "Y_validation_pred = svc_rbf.predict(X_validation)\n",
    "Y_testing_pred = svc_rbf.predict(X_testing)\n",
    "\n",
    "print('Accuracy Score on Testing Data with C=', str(svc_rbf.C), 'gamma =', str(svc_rbf._gamma), ':', accuracy_score(Y_testing, Y_testing_pred))\n"
   ]
  },
  {
   "cell_type": "code",
   "execution_count": 15,
   "id": "NWudXvkuwDue",
   "metadata": {
    "colab": {
     "base_uri": "https://localhost:8080/"
    },
    "id": "NWudXvkuwDue",
    "outputId": "5a95e978-8992-42ab-d47a-804efdf6ca2b"
   },
   "outputs": [
    {
     "name": "stdout",
     "output_type": "stream",
     "text": [
      "Accuracy Score on Testing Data with C= 10 gamma = 0.002 : 0.9416355615880556\n",
      "Accuracy Score on Testing Data with C= 10 gamma = 0.004 : 0.9480827960637936\n",
      "Accuracy Score on Testing Data with C= 10 gamma = 0.006 : 0.9521547336274178\n",
      "Accuracy Score on Testing Data with C= 10 gamma = 0.008 : 0.9531727180183237\n",
      "Accuracy Score on Testing Data with C= 10 gamma = 0.01 : 0.9521547336274178\n",
      "Accuracy Score on Testing Data with C= 10 gamma = 0.02 : 0.9528333898880217\n",
      "Accuracy Score on Testing Data with C= 10 gamma = 0.03 : 0.9531727180183237\n",
      "Accuracy Score on Testing Data with C= 10 gamma = 0.04 : 0.9535120461486257\n",
      "Accuracy Score on Testing Data with C= 10 gamma = 0.05 : 0.9524940617577197\n",
      "Accuracy Score on Testing Data with C= 10 gamma = 0.06 : 0.9514760773668137\n",
      "Accuracy Score on Testing Data with C= 10 gamma = 0.07 : 0.9514760773668137\n"
     ]
    }
   ],
   "source": [
    "gamma_vals = [0.002, 0.004, 0.006, 0.008, 0.01, 0.02, 0.03, 0.04, 0.05, 0.06, 0.07]\n",
    "for i in range(len(gamma_vals)):\n",
    "  svc_rbf = SVC(kernel='rbf',gamma = gamma_vals[i],C=10)  # gamma='scale'\n",
    "  svc_rbf.fit(X_training,Y_training)\n",
    "\n",
    "\n",
    "  #Y_training_pred = svc_rbf.predict(X_training)\n",
    "  #Y_validation_pred = svc_rbf.predict(X_validation)\n",
    "  Y_testing_pred = svc_rbf.predict(X_testing)\n",
    "  print('Accuracy Score on Testing Data with C=', str(svc_rbf.C), 'gamma =', str(svc_rbf._gamma), ':', accuracy_score(Y_testing, Y_testing_pred))\n",
    "\n"
   ]
  },
  {
   "cell_type": "code",
   "execution_count": 16,
   "id": "GzMAHCEdx3Ay",
   "metadata": {
    "colab": {
     "base_uri": "https://localhost:8080/"
    },
    "id": "GzMAHCEdx3Ay",
    "outputId": "826a7e57-1df6-4ae1-fc8c-108cc008ffac"
   },
   "outputs": [
    {
     "name": "stdout",
     "output_type": "stream",
     "text": [
      "Accuracy Score on Testing Data with C= 100 gamma = 0.002 : 0.9565659993213438\n",
      "Accuracy Score on Testing Data with C= 100 gamma = 0.004 : 0.9531727180183237\n",
      "Accuracy Score on Testing Data with C= 100 gamma = 0.006 : 0.9545300305395318\n",
      "Accuracy Score on Testing Data with C= 100 gamma = 0.008 : 0.9548693586698337\n",
      "Accuracy Score on Testing Data with C= 100 gamma = 0.01 : 0.9545300305395318\n",
      "Accuracy Score on Testing Data with C= 100 gamma = 0.02 : 0.9552086868001357\n",
      "Accuracy Score on Testing Data with C= 100 gamma = 0.03 : 0.9524940617577197\n",
      "Accuracy Score on Testing Data with C= 100 gamma = 0.04 : 0.9507974211062097\n",
      "Accuracy Score on Testing Data with C= 100 gamma = 0.05 : 0.9484221241940957\n",
      "Accuracy Score on Testing Data with C= 100 gamma = 0.06 : 0.9494401085850017\n",
      "Accuracy Score on Testing Data with C= 100 gamma = 0.07 : 0.9504580929759077\n"
     ]
    }
   ],
   "source": [
    "gamma_vals = [0.002, 0.004, 0.006, 0.008, 0.01, 0.02, 0.03, 0.04, 0.05, 0.06, 0.07]\n",
    "for i in range(len(gamma_vals)):\n",
    "    svc_rbf = SVC(kernel='rbf',gamma = gamma_vals[i],C=100)  # gamma='scale'\n",
    "    svc_rbf.fit(X_training,Y_training)\n",
    "\n",
    "\n",
    "    Y_testing_pred = svc_rbf.predict(X_testing)\n",
    "    print('Accuracy Score on Testing Data with C=', str(svc_rbf.C), 'gamma =', str(svc_rbf._gamma), ':', accuracy_score(Y_testing, Y_testing_pred))\n",
    "\n"
   ]
  },
  {
   "cell_type": "markdown",
   "id": "a3edc5a6",
   "metadata": {
    "id": "a3edc5a6"
   },
   "source": [
    "## SVM with polynomial kernel"
   ]
  },
  {
   "cell_type": "code",
   "execution_count": 17,
   "id": "1c1eba71",
   "metadata": {
    "id": "1c1eba71",
    "outputId": "f7abd2f9-14ac-4e6c-9c1a-4ff3920f06e7"
   },
   "outputs": [
    {
     "name": "stdout",
     "output_type": "stream",
     "text": [
      "SVM with Polynomial Kernel\n",
      "----------------------------------------------------------------------------------------------------\n",
      "\n",
      "Tuned parameter Values, C : 1 , gamma : 0.03 , degree : 3\n",
      "\n",
      "\n",
      "Accuracy Score on Training Data: 0.9884373405883353\n",
      "\n",
      "----------------------------------------------------------------------------------------------------\n",
      "--------------------------------------For Validation Set--------------------------------------------\n",
      "\n",
      "Accuracy Score on Validation Data: 0.9843643779741672\n",
      "\n",
      "Confusion Matrix on Validation Data:\n"
     ]
    },
    {
     "data": {
      "image/png": "[encoded data removed]",
      "text/plain": [
       "<Figure size 432x288 with 2 Axes>"
      ]
     },
     "metadata": {
      "needs_background": "light"
     },
     "output_type": "display_data"
    },
    {
     "name": "stdout",
     "output_type": "stream",
     "text": [
      "Normalised Confusion Matrix on Validation Data:\n"
     ]
    },
    {
     "data": {
      "image/png": "[encoded data removed]",
      "text/plain": [
       "<Figure size 432x288 with 2 Axes>"
      ]
     },
     "metadata": {
      "needs_background": "light"
     },
     "output_type": "display_data"
    },
    {
     "name": "stdout",
     "output_type": "stream",
     "text": [
      "Classification Report on Validation Data:\n",
      "              precision    recall  f1-score   support\n",
      "\n",
      "           0       1.00      1.00      1.00       280\n",
      "           1       0.96      0.96      0.96       262\n",
      "           2       0.96      0.96      0.96       276\n",
      "           3       1.00      1.00      1.00       247\n",
      "           4       0.99      1.00      1.00       206\n",
      "           5       0.99      0.99      0.99       200\n",
      "\n",
      "    accuracy                           0.98      1471\n",
      "   macro avg       0.99      0.99      0.99      1471\n",
      "weighted avg       0.98      0.98      0.98      1471\n",
      "\n",
      "\n",
      "----------------------------------------------------------------------------------------------------\n",
      "--------------------------------------For Testing Set-----------------------------------------------\n",
      "\n",
      "Accuracy Score on Testing Data: 0.9545300305395318\n",
      "\n",
      "Confusion Matrix on Test Data:\n"
     ]
    },
    {
     "data": {
      "image/png": "[encoded data removed]",
      "text/plain": [
       "<Figure size 432x288 with 2 Axes>"
      ]
     },
     "metadata": {
      "needs_background": "light"
     },
     "output_type": "display_data"
    },
    {
     "name": "stdout",
     "output_type": "stream",
     "text": [
      "Normalised Confusion Matrix on Test Data:\n"
     ]
    },
    {
     "data": {
      "image/png": "[encoded data removed]",
      "text/plain": [
       "<Figure size 432x288 with 2 Axes>"
      ]
     },
     "metadata": {
      "needs_background": "light"
     },
     "output_type": "display_data"
    },
    {
     "name": "stdout",
     "output_type": "stream",
     "text": [
      "Classification Report on Test Data:\n",
      "              precision    recall  f1-score   support\n",
      "\n",
      "           0       1.00      1.00      1.00       537\n",
      "           1       0.96      0.88      0.92       491\n",
      "           2       0.90      0.97      0.93       532\n",
      "           3       0.92      1.00      0.96       496\n",
      "           4       0.99      0.93      0.96       420\n",
      "           5       0.97      0.94      0.95       471\n",
      "\n",
      "    accuracy                           0.95      2947\n",
      "   macro avg       0.96      0.95      0.95      2947\n",
      "weighted avg       0.96      0.95      0.95      2947\n",
      "\n"
     ]
    }
   ],
   "source": [
    "svc_poly = SVC(kernel='poly',degree=3,gamma=0.03,C=1) \n",
    "svc_poly.fit(X_training,Y_training)\n",
    "\n",
    "\n",
    "\n",
    "Y_training_pred = svc_poly.predict(X_training)\n",
    "Y_validation_pred = svc_poly.predict(X_validation)\n",
    "Y_testing_pred = svc_poly.predict(X_testing)\n",
    "\n",
    "print(\"SVM with Polynomial Kernel\")\n",
    "\n",
    "print('----------------------------------------------------------------------------------------------------')\n",
    "print()\n",
    "print('Tuned parameter Values, C :',svc_poly.C,', gamma :',svc_poly._gamma,', degree :',svc_poly.degree)\n",
    "print()\n",
    "print()\n",
    "print('Accuracy Score on Training Data:',accuracy_score(Y_training, Y_training_pred))\n",
    "print()\n",
    "print('----------------------------------------------------------------------------------------------------')\n",
    "print('--------------------------------------For Validation Set--------------------------------------------')\n",
    "print()\n",
    "print('Accuracy Score on Validation Data:',accuracy_score(Y_validation, Y_validation_pred))\n",
    "print()\n",
    "#CM=confusion_matrix(Y_validation, Y_validation_pred)\n",
    "print(\"Confusion Matrix on Validation Data:\")\n",
    "#print(CM)\n",
    "plot_confusion_matrix(svc_poly, X_validation, Y_validation)  \n",
    "plt.show()\n",
    "#CM_normalised = CM.astype('float')/CM.sum(axis=1)[:, np.newaxis]\n",
    "print(\"Normalised Confusion Matrix on Validation Data:\")\n",
    "#print(CM_normalised)\n",
    "plot_confusion_matrix(svc_poly, X_validation, Y_validation,normalize='true')  \n",
    "plt.show()\n",
    "print(\"Classification Report on Validation Data:\")\n",
    "print(classification_report(Y_validation,Y_validation_pred))\n",
    "print()\n",
    "\n",
    "\n",
    "print('----------------------------------------------------------------------------------------------------')\n",
    "print('--------------------------------------For Testing Set-----------------------------------------------')\n",
    "print()\n",
    "print('Accuracy Score on Testing Data:',accuracy_score(Y_testing, Y_testing_pred))\n",
    "print()\n",
    "print(\"Confusion Matrix on Test Data:\")\n",
    "#CM=confusion_matrix(Y_test, Y_test_pred)\n",
    "#print(CM)\n",
    "plot_confusion_matrix(svc_poly, X_test_mm, Y_test)  \n",
    "plt.show()\n",
    "print(\"Normalised Confusion Matrix on Test Data:\")\n",
    "#CM_normalised = CM.astype('float')/CM.sum(axis=1)[:, np.newaxis]\n",
    "#print(CM_normalised)\n",
    "plot_confusion_matrix(svc_poly, X_test_mm, Y_test,normalize='true')  \n",
    "plt.show()\n",
    "print(\"Classification Report on Test Data:\")\n",
    "print(classification_report(Y_testing, Y_testing_pred))"
   ]
  },
  {
   "cell_type": "code",
   "execution_count": 18,
   "id": "0wlnXRByyYoV",
   "metadata": {
    "colab": {
     "base_uri": "https://localhost:8080/"
    },
    "id": "0wlnXRByyYoV",
    "outputId": "b9950cd6-a2c2-4276-d9a6-33b721dcd8b8"
   },
   "outputs": [
    {
     "name": "stdout",
     "output_type": "stream",
     "text": [
      "Accuracy Score on Testing Data with degree = 2 : 0.9528333898880217\n",
      "Accuracy Score on Testing Data with degree = 3 : 0.9521547336274178\n",
      "Accuracy Score on Testing Data with degree = 4 : 0.9538513742789277\n",
      "Accuracy Score on Testing Data with degree = 5 : 0.9531727180183237\n"
     ]
    }
   ],
   "source": [
    "n = [2,3,4,5]\n",
    "for i in range(len(n)):\n",
    "  svc_poly = SVC(kernel='poly',degree=n[i]) \n",
    "  svc_poly.fit(X_training,Y_training)\n",
    "\n",
    "  Y_testing_pred = svc_poly.predict(X_testing)\n",
    "\n",
    "  print('Accuracy Score on Testing Data with degree =',n[i],':',accuracy_score(Y_testing, Y_testing_pred))\n"
   ]
  },
  {
   "cell_type": "code",
   "execution_count": 19,
   "id": "bcf40a7d",
   "metadata": {},
   "outputs": [
    {
     "name": "stdout",
     "output_type": "stream",
     "text": [
      "Accuracy Score on Testing Data with C= 0.001 gamma = 0.001 : 0.18221920597217509\n",
      "Accuracy Score on Testing Data with C= 0.001 gamma = 0.01 : 0.18221920597217509\n",
      "Accuracy Score on Testing Data with C= 0.001 gamma = 0.1 : 0.9311163895486936\n",
      "Accuracy Score on Testing Data with C= 0.001 gamma = 1 : 0.9538513742789277\n",
      "Accuracy Score on Testing Data with C= 0.01 gamma = 0.001 : 0.18221920597217509\n",
      "Accuracy Score on Testing Data with C= 0.01 gamma = 0.01 : 0.3678316932473702\n",
      "Accuracy Score on Testing Data with C= 0.01 gamma = 0.1 : 0.9524940617577197\n",
      "Accuracy Score on Testing Data with C= 0.01 gamma = 1 : 0.9538513742789277\n",
      "Accuracy Score on Testing Data with C= 0.1 gamma = 0.001 : 0.18221920597217509\n",
      "Accuracy Score on Testing Data with C= 0.1 gamma = 0.01 : 0.7790973871733967\n",
      "Accuracy Score on Testing Data with C= 0.1 gamma = 0.1 : 0.9528333898880217\n",
      "Accuracy Score on Testing Data with C= 0.1 gamma = 1 : 0.9538513742789277\n",
      "Accuracy Score on Testing Data with C= 1 gamma = 0.001 : 0.18221920597217509\n",
      "Accuracy Score on Testing Data with C= 1 gamma = 0.01 : 0.9311163895486936\n",
      "Accuracy Score on Testing Data with C= 1 gamma = 0.1 : 0.9538513742789277\n",
      "Accuracy Score on Testing Data with C= 1 gamma = 1 : 0.9538513742789277\n",
      "Accuracy Score on Testing Data with C= 10 gamma = 0.001 : 0.3678316932473702\n",
      "Accuracy Score on Testing Data with C= 10 gamma = 0.01 : 0.9524940617577197\n",
      "Accuracy Score on Testing Data with C= 10 gamma = 0.1 : 0.9538513742789277\n",
      "Accuracy Score on Testing Data with C= 10 gamma = 1 : 0.9538513742789277\n",
      "Accuracy Score on Testing Data with C= 100 gamma = 0.001 : 0.7790973871733967\n",
      "Accuracy Score on Testing Data with C= 100 gamma = 0.01 : 0.9528333898880217\n",
      "Accuracy Score on Testing Data with C= 100 gamma = 0.1 : 0.9538513742789277\n",
      "Accuracy Score on Testing Data with C= 100 gamma = 1 : 0.9538513742789277\n"
     ]
    }
   ],
   "source": [
    "trials = [0.001, 0.01, 0.1, 1, 10, 100]\n",
    "#Make grid using above list\n",
    "grid = []\n",
    "for i in range(6):\n",
    "    for j in range(4):\n",
    "        grid.append((trials[i],trials[j]))\n",
    "\n",
    "for i in range(len(grid)):\n",
    "    svc_poly = SVC(kernel='poly',degree=3,gamma=grid[i][1],C=grid[i][0])  # gamma='scale'\n",
    "    svc_poly.fit(X_training,Y_training)\n",
    "    \n",
    "    Y_testing_pred = svc_poly.predict(X_testing)\n",
    "\n",
    "\n",
    "\n",
    "    print('Accuracy Score on Testing Data with C=', str(grid[i][0]), 'gamma =', str(grid[i][1]), ':', accuracy_score(Y_testing, Y_testing_pred))\n"
   ]
  },
  {
   "cell_type": "code",
   "execution_count": 20,
   "id": "2788bc0a",
   "metadata": {},
   "outputs": [
    {
     "name": "stdout",
     "output_type": "stream",
     "text": [
      "Accuracy Score on Testing Data with C= 100 gamma = 0.01 : 0.9311163895486936\n",
      "Accuracy Score on Testing Data with C= 100 gamma = 0.02 : 0.9514760773668137\n",
      "Accuracy Score on Testing Data with C= 100 gamma = 0.03 : 0.9545300305395318\n",
      "Accuracy Score on Testing Data with C= 100 gamma = 0.04 : 0.9528333898880217\n",
      "Accuracy Score on Testing Data with C= 100 gamma = 0.05 : 0.9531727180183237\n",
      "Accuracy Score on Testing Data with C= 100 gamma = 0.06 : 0.9535120461486257\n",
      "Accuracy Score on Testing Data with C= 100 gamma = 0.07 : 0.9528333898880217\n"
     ]
    }
   ],
   "source": [
    "gamma_vals = [0.01, 0.02, 0.03, 0.04, 0.05, 0.06, 0.07]\n",
    "for i in range(len(gamma_vals)):\n",
    "    svc_poly = SVC(kernel='poly',gamma = gamma_vals[i])  # gamma='scale'\n",
    "    svc_poly.fit(X_training,Y_training)\n",
    "\n",
    "\n",
    "    Y_testing_pred = svc_poly.predict(X_testing)\n",
    "    print('Accuracy Score on Testing Data with C=', str(svc_rbf.C), 'gamma =', str(svc_poly._gamma), ':', accuracy_score(Y_testing, Y_testing_pred))\n",
    "\n"
   ]
  },
  {
   "cell_type": "markdown",
   "id": "e9d30719",
   "metadata": {
    "id": "e9d30719"
   },
   "source": [
    "## SVM with sigmoid kernel"
   ]
  },
  {
   "cell_type": "code",
   "execution_count": 21,
   "id": "fa2acc40",
   "metadata": {
    "id": "fa2acc40"
   },
   "outputs": [
    {
     "name": "stdout",
     "output_type": "stream",
     "text": [
      "SVM with Sigmoid Kernel\n",
      "----------------------------------------------------------------------------------------------------\n",
      "\n",
      "Tuned parameter Values, C : 100 , gamma : 0.001\n",
      "\n",
      "\n",
      "Accuracy Score on Training Data: 0.9761945247406904\n",
      "\n",
      "----------------------------------------------------------------------------------------------------\n",
      "--------------------------------------For Validation Set--------------------------------------------\n",
      "\n",
      "Accuracy Score on Validation Data: 0.9700883752549286\n",
      "\n",
      "Confusion Matrix on Validation Data:\n"
     ]
    },
    {
     "data": {
      "image/png": "[encoded data removed]",
      "text/plain": [
       "<Figure size 432x288 with 2 Axes>"
      ]
     },
     "metadata": {
      "needs_background": "light"
     },
     "output_type": "display_data"
    },
    {
     "name": "stdout",
     "output_type": "stream",
     "text": [
      "Normalised Confusion Matrix on Validation Data:\n"
     ]
    },
    {
     "data": {
      "image/png": "[encoded data removed]",
      "text/plain": [
       "<Figure size 432x288 with 2 Axes>"
      ]
     },
     "metadata": {
      "needs_background": "light"
     },
     "output_type": "display_data"
    },
    {
     "name": "stdout",
     "output_type": "stream",
     "text": [
      "Classification Report on Validation Data:\n",
      "              precision    recall  f1-score   support\n",
      "\n",
      "           0       1.00      1.00      1.00       280\n",
      "           1       0.93      0.94      0.94       262\n",
      "           2       0.94      0.93      0.94       276\n",
      "           3       0.98      0.99      0.99       247\n",
      "           4       0.98      0.99      0.98       206\n",
      "           5       0.99      0.97      0.98       200\n",
      "\n",
      "    accuracy                           0.97      1471\n",
      "   macro avg       0.97      0.97      0.97      1471\n",
      "weighted avg       0.97      0.97      0.97      1471\n",
      "\n",
      "\n",
      "----------------------------------------------------------------------------------------------------\n",
      "--------------------------------------For Testing Set-----------------------------------------------\n",
      "\n",
      "Accuracy Score on Testing Data: 0.9491007804546997\n",
      "\n",
      "Confusion Matrix on Test Data:\n"
     ]
    },
    {
     "data": {
      "image/png": "[encoded data removed]",
      "text/plain": [
       "<Figure size 432x288 with 2 Axes>"
      ]
     },
     "metadata": {
      "needs_background": "light"
     },
     "output_type": "display_data"
    },
    {
     "name": "stdout",
     "output_type": "stream",
     "text": [
      "Normalised Confusion Matrix on Test Data:\n"
     ]
    },
    {
     "data": {
      "image/png": "[encoded data removed]",
      "text/plain": [
       "<Figure size 432x288 with 2 Axes>"
      ]
     },
     "metadata": {
      "needs_background": "light"
     },
     "output_type": "display_data"
    },
    {
     "name": "stdout",
     "output_type": "stream",
     "text": [
      "Classification Report on Test Data:\n",
      "              precision    recall  f1-score   support\n",
      "\n",
      "           0       1.00      1.00      1.00       537\n",
      "           1       0.94      0.88      0.91       491\n",
      "           2       0.90      0.95      0.92       532\n",
      "           3       0.93      1.00      0.96       496\n",
      "           4       0.99      0.92      0.96       420\n",
      "           5       0.95      0.94      0.94       471\n",
      "\n",
      "    accuracy                           0.95      2947\n",
      "   macro avg       0.95      0.95      0.95      2947\n",
      "weighted avg       0.95      0.95      0.95      2947\n",
      "\n"
     ]
    }
   ],
   "source": [
    "svc_sigmoid = SVC(kernel='sigmoid',gamma=0.001,C=100) \n",
    "svc_sigmoid.fit(X_training,Y_training)\n",
    "\n",
    "\n",
    "\n",
    "Y_training_pred = svc_sigmoid.predict(X_training)\n",
    "Y_validation_pred = svc_sigmoid.predict(X_validation)\n",
    "Y_testing_pred = svc_sigmoid.predict(X_testing)\n",
    "\n",
    "print(\"SVM with Sigmoid Kernel\")\n",
    "print('----------------------------------------------------------------------------------------------------')\n",
    "print()\n",
    "print('Tuned parameter Values, C :',svc_sigmoid.C,', gamma :',svc_sigmoid._gamma)\n",
    "print()\n",
    "print()\n",
    "print('Accuracy Score on Training Data:',accuracy_score(Y_training, Y_training_pred))\n",
    "print()\n",
    "print('----------------------------------------------------------------------------------------------------')\n",
    "print('--------------------------------------For Validation Set--------------------------------------------')\n",
    "print()\n",
    "print('Accuracy Score on Validation Data:',accuracy_score(Y_validation, Y_validation_pred))\n",
    "print()\n",
    "#CM=confusion_matrix(Y_validation, Y_validation_pred)\n",
    "print(\"Confusion Matrix on Validation Data:\")\n",
    "#print(CM)\n",
    "plot_confusion_matrix(svc_sigmoid, X_validation, Y_validation)  \n",
    "plt.show()\n",
    "#CM_normalised = CM.astype('float')/CM.sum(axis=1)[:, np.newaxis]\n",
    "print(\"Normalised Confusion Matrix on Validation Data:\")\n",
    "#print(CM_normalised)\n",
    "plot_confusion_matrix(svc_sigmoid, X_validation, Y_validation,normalize='true')  \n",
    "plt.show()\n",
    "print(\"Classification Report on Validation Data:\")\n",
    "print(classification_report(Y_validation,Y_validation_pred))\n",
    "print()\n",
    "\n",
    "\n",
    "print('----------------------------------------------------------------------------------------------------')\n",
    "print('--------------------------------------For Testing Set-----------------------------------------------')\n",
    "print()\n",
    "print('Accuracy Score on Testing Data:',accuracy_score(Y_testing, Y_testing_pred))\n",
    "print()\n",
    "print(\"Confusion Matrix on Test Data:\")\n",
    "#CM=confusion_matrix(Y_test, Y_test_pred)\n",
    "#print(CM)\n",
    "plot_confusion_matrix(svc_sigmoid, X_test_mm, Y_test)  \n",
    "plt.show()\n",
    "print(\"Normalised Confusion Matrix on Test Data:\")\n",
    "#CM_normalised = CM.astype('float')/CM.sum(axis=1)[:, np.newaxis]\n",
    "#print(CM_normalised)\n",
    "plot_confusion_matrix(svc_sigmoid, X_test_mm, Y_test,normalize='true')  \n",
    "plt.show()\n",
    "print(\"Classification Report on Test Data:\")\n",
    "print(classification_report(Y_testing, Y_testing_pred))"
   ]
  },
  {
   "cell_type": "code",
   "execution_count": 22,
   "id": "7sAYZHFL8XHL",
   "metadata": {
    "colab": {
     "base_uri": "https://localhost:8080/"
    },
    "id": "7sAYZHFL8XHL",
    "outputId": "bbe6f7f0-0a07-4f42-82fd-84fcb7797713"
   },
   "outputs": [
    {
     "name": "stdout",
     "output_type": "stream",
     "text": [
      "Accuracy Score on Testing Data with C= 0.001 gamma = 0.001 : 0.18221920597217509\n",
      "Accuracy Score on Testing Data with C= 0.001 gamma = 0.01 : 0.18221920597217509\n",
      "Accuracy Score on Testing Data with C= 0.001 gamma = 0.1 : 0.18221920597217509\n",
      "Accuracy Score on Testing Data with C= 0.001 gamma = 1 : 0.18221920597217509\n",
      "Accuracy Score on Testing Data with C= 0.01 gamma = 0.001 : 0.18221920597217509\n",
      "Accuracy Score on Testing Data with C= 0.01 gamma = 0.01 : 0.1828978622327791\n",
      "Accuracy Score on Testing Data with C= 0.01 gamma = 0.1 : 0.18221920597217509\n",
      "Accuracy Score on Testing Data with C= 0.01 gamma = 1 : 0.18221920597217509\n",
      "Accuracy Score on Testing Data with C= 0.1 gamma = 0.001 : 0.3498473023413641\n",
      "Accuracy Score on Testing Data with C= 0.1 gamma = 0.01 : 0.5561588055649813\n",
      "Accuracy Score on Testing Data with C= 0.1 gamma = 0.1 : 0.18221920597217509\n",
      "Accuracy Score on Testing Data with C= 0.1 gamma = 1 : 0.18221920597217509\n",
      "Accuracy Score on Testing Data with C= 1 gamma = 0.001 : 0.7244655581947743\n",
      "Accuracy Score on Testing Data with C= 1 gamma = 0.01 : 0.8883610451306413\n",
      "Accuracy Score on Testing Data with C= 1 gamma = 0.1 : 0.18221920597217509\n",
      "Accuracy Score on Testing Data with C= 1 gamma = 1 : 0.18221920597217509\n",
      "Accuracy Score on Testing Data with C= 10 gamma = 0.001 : 0.9134713267729895\n",
      "Accuracy Score on Testing Data with C= 10 gamma = 0.01 : 0.9080420766881574\n",
      "Accuracy Score on Testing Data with C= 10 gamma = 0.1 : 0.18221920597217509\n",
      "Accuracy Score on Testing Data with C= 10 gamma = 1 : 0.18221920597217509\n",
      "Accuracy Score on Testing Data with C= 100 gamma = 0.001 : 0.9491007804546997\n",
      "Accuracy Score on Testing Data with C= 100 gamma = 0.01 : 0.8744485917882593\n",
      "Accuracy Score on Testing Data with C= 100 gamma = 0.1 : 0.18221920597217509\n",
      "Accuracy Score on Testing Data with C= 100 gamma = 1 : 0.18221920597217509\n"
     ]
    }
   ],
   "source": [
    "trials = [0.001, 0.01, 0.1, 1, 10, 100]\n",
    "#Make grid using above list\n",
    "grid = []\n",
    "for i in range(6):\n",
    "    for j in range(4):\n",
    "        grid.append((trials[i],trials[j]))\n",
    "\n",
    "for i in range(len(grid)):\n",
    "    svc_rbf = SVC(kernel='sigmoid',gamma=grid[i][1],C=grid[i][0])  # gamma='scale'\n",
    "    svc_rbf.fit(X_training,Y_training)\n",
    "    \n",
    "    Y_testing_pred = svc_rbf.predict(X_testing)\n",
    "\n",
    "\n",
    "\n",
    "    print('Accuracy Score on Testing Data with C=', str(grid[i][0]), 'gamma =', str(grid[i][1]), ':', accuracy_score(Y_testing, Y_testing_pred))\n"
   ]
  }
 ],
 "metadata": {
  "colab": {
   "name": "Assignment 3.ipynb",
   "provenance": []
  },
  "kernelspec": {
   "display_name": "Python 3",
   "language": "python",
   "name": "python3"
  },
  "language_info": {
   "codemirror_mode": {
    "name": "ipython",
    "version": 3
   },
   "file_extension": ".py",
   "mimetype": "text/x-python",
   "name": "python",
   "nbconvert_exporter": "python",
   "pygments_lexer": "ipython3",
   "version": "3.8.8"
  }
 },
 "nbformat": 4,
 "nbformat_minor": 5
}
